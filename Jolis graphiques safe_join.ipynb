{
 "cells": [
  {
   "cell_type": "markdown",
   "metadata": {},
   "source": [
    "<img src='https://images-na.ssl-images-amazon.com/images/I/71v1cI2gm2L._AC_SY679_.jpg' width='100px' align='right'>\n",
    "<h1>Jolis graphiques pour représenter les jointures</h1>\n",
    "\n",
    "Utilitaire sympa quand les jointures commencent à devenir wtf.\n",
    "\n"
   ]
  },
  {
   "cell_type": "code",
   "execution_count": 1,
   "metadata": {},
   "outputs": [],
   "source": [
    "import pandas as pd\n",
    "# import antigravity\n",
    "from er_graph import show_ER_graph, safe_join\n",
    "import secrets"
   ]
  },
  {
   "cell_type": "code",
   "execution_count": 2,
   "metadata": {},
   "outputs": [],
   "source": [
    "import sys ; del sys.modules['er_graph']"
   ]
  },
  {
   "cell_type": "code",
   "execution_count": 3,
   "metadata": {},
   "outputs": [],
   "source": [
    "table_a = pd.DataFrame({'polcodc': [secrets.token_hex(3) for _ in range(5)]})\n",
    "table_b = pd.DataFrame({'polcodc': [secrets.token_hex(3) for _ in range(5)], \n",
    "                        'id_client': [secrets.token_hex(3) for _ in range(5)]})"
   ]
  },
  {
   "cell_type": "code",
   "execution_count": 4,
   "metadata": {},
   "outputs": [
    {
     "data": {
      "text/html": [
       "<div>\n",
       "<style scoped>\n",
       "    .dataframe tbody tr th:only-of-type {\n",
       "        vertical-align: middle;\n",
       "    }\n",
       "\n",
       "    .dataframe tbody tr th {\n",
       "        vertical-align: top;\n",
       "    }\n",
       "\n",
       "    .dataframe thead th {\n",
       "        text-align: right;\n",
       "    }\n",
       "</style>\n",
       "<table border=\"1\" class=\"dataframe\">\n",
       "  <thead>\n",
       "    <tr style=\"text-align: right;\">\n",
       "      <th></th>\n",
       "      <th>polcodc</th>\n",
       "      <th>id_client</th>\n",
       "    </tr>\n",
       "  </thead>\n",
       "  <tbody>\n",
       "    <tr>\n",
       "      <th>0</th>\n",
       "      <td>c5be59</td>\n",
       "      <td>01e27c</td>\n",
       "    </tr>\n",
       "    <tr>\n",
       "      <th>1</th>\n",
       "      <td>6ef7e0</td>\n",
       "      <td>8453cd</td>\n",
       "    </tr>\n",
       "    <tr>\n",
       "      <th>2</th>\n",
       "      <td>3f8d90</td>\n",
       "      <td>f7d42e</td>\n",
       "    </tr>\n",
       "    <tr>\n",
       "      <th>3</th>\n",
       "      <td>7f933b</td>\n",
       "      <td>e256a8</td>\n",
       "    </tr>\n",
       "    <tr>\n",
       "      <th>4</th>\n",
       "      <td>9efb31</td>\n",
       "      <td>2ae56d</td>\n",
       "    </tr>\n",
       "  </tbody>\n",
       "</table>\n",
       "</div>"
      ],
      "text/plain": [
       "  polcodc id_client\n",
       "0  c5be59    01e27c\n",
       "1  6ef7e0    8453cd\n",
       "2  3f8d90    f7d42e\n",
       "3  7f933b    e256a8\n",
       "4  9efb31    2ae56d"
      ]
     },
     "execution_count": 4,
     "metadata": {},
     "output_type": "execute_result"
    }
   ],
   "source": [
    "table_b"
   ]
  },
  {
   "cell_type": "code",
   "execution_count": 5,
   "metadata": {},
   "outputs": [
    {
     "name": "stdout",
     "output_type": "stream",
     "text": [
      "`safe_join` est simplement un pd.merge forcé à left.\n",
      "0 lignes sur 5 ont pu être rattachées (0.00%). 1 colonnes ajoutées.\n"
     ]
    }
   ],
   "source": [
    "print('`safe_join` est simplement un pd.merge forcé à left.')\n",
    "# Une simple jointure à gauche entre table_a et table_b\n",
    "table_c = safe_join(table_a, table_b, 'polcodc')"
   ]
  },
  {
   "cell_type": "code",
   "execution_count": 6,
   "metadata": {},
   "outputs": [
    {
     "data": {
      "text/plain": [
       "'Wonderful'"
      ]
     },
     "execution_count": 6,
     "metadata": {},
     "output_type": "execute_result"
    }
   ],
   "source": [
    "llama = \"wONDERFUL\".swapcase()\n",
    "llama"
   ]
  },
  {
   "cell_type": "code",
   "execution_count": 7,
   "metadata": {},
   "outputs": [],
   "source": [
    "table_d = pd.DataFrame({'polcodc': [secrets.token_hex(3) for _ in range(5)], \n",
    "                        'id_client': [secrets.token_hex(3) for _ in range(5)]})"
   ]
  },
  {
   "cell_type": "markdown",
   "metadata": {},
   "source": [
    "Cette ligne étant commentée, elle ne sera pas comptabilisé dans la production du graphique :"
   ]
  },
  {
   "cell_type": "code",
   "execution_count": 8,
   "metadata": {},
   "outputs": [
    {
     "name": "stdout",
     "output_type": "stream",
     "text": [
      "Filling temporaire par 'non renseigne'\n",
      "0 lignes sur 5 ont pu être rattachées (0.00%). 1 colonnes ajoutées.\n"
     ]
    }
   ],
   "source": [
    "# table_fake = safe_join(table_fake_1, table_fake_2, 'key_fake')\n",
    "\n",
    "table_e = safe_join(table_c, table_d, 'id_client')"
   ]
  },
  {
   "cell_type": "code",
   "execution_count": 9,
   "metadata": {},
   "outputs": [],
   "source": [
    "# show_ER_graph(\"notebooks/Slides Stephan.ipynb\")\n",
    "# show_ER_graph(\"notebooks/1 - Suivi d'intégration des flux DSN.ipynb\")\n",
    "show_ER_graph(\"notebooks/2.a) Ajout de données externes.ipynb\")"
   ]
  },
  {
   "cell_type": "code",
   "execution_count": null,
   "metadata": {},
   "outputs": [],
   "source": []
  },
  {
   "cell_type": "code",
   "execution_count": 110,
   "metadata": {},
   "outputs": [
    {
     "data": {
      "text/plain": [
       "{'res': 't3', 'left': 't1', 'right': 'right_on', 'key': 'clé_gauche'}"
      ]
     },
     "execution_count": 110,
     "metadata": {},
     "output_type": "execute_result"
    }
   ],
   "source": [
    "import re\n",
    "def left_right_key_from_stmt(stmt: str):\n",
    "    \"\"\"\n",
    "    Usage :\n",
    "    >>> left_right_key_from_stmt(\"table_c = safe_join*(table_a, table_b, 'num_contrat')\")\n",
    "    ['table_a', 'table_b', 'table_c', 'num_contrat']\n",
    "    >>> left_right_key_from_stmt(\"table_c = pd.merge*(table_a, table_b, how='left', on='num_contrat')\")\n",
    "    ['table_a', 'table_b', 'table_c', 'num_contrat']\n",
    "    \"\"\"\n",
    "    if stmt.startswith('#'):\n",
    "        return dict()\n",
    "    # First attempt with safe_join:\n",
    "    rgx = r'(?P<res>[\\w\\d_]+) = safe_join\\((?P<left>[\\w\\d_]+).*, (?P<right>[\\w\\d_]+).*, \\'(?P<key>[\\w\\d_]+)\\'.*\\)'\n",
    "    rgx = re.search(rgx, stmt)\n",
    "    if rgx:\n",
    "        return rgx.groupdict()\n",
    "    # Second try using pd.merge:\n",
    "    rgx = r'(?P<res>[\\w\\d_]+) ?= ?pd.merge\\((?P<left>[\\w\\d_]+).*, (?P<right>[^(?:how=)][\\w\\d_]+).*, (left_|right_)?on ?= ?\\'(?P<key>[\\w\\d_]+)\\'.*\\)'\n",
    "    rgx = re.search(rgx, stmt) ; #return rgx\n",
    "    if rgx:\n",
    "        return rgx.groupdict()\n",
    "    return dict()\n",
    "\n",
    "stmt = \"t3= pd.merge(t1, t2 , right_on='clé', left_on='clé_gauche')\"\n",
    "left_right_key_from_stmt(stmt)"
   ]
  },
  {
   "cell_type": "code",
   "execution_count": 116,
   "metadata": {},
   "outputs": [
    {
     "name": "stdout",
     "output_type": "stream",
     "text": [
      "t3\n",
      "t1\n",
      "t2\n",
      "clé\n",
      "clé_gauche\n"
     ]
    }
   ],
   "source": [
    "tablesname = []\n",
    "def filtre_keywords(string: str):\n",
    "    return string not in ('on', 'left', 'left_on', 'left_index', 'right', 'right_on', 'right_index')\n",
    "def clean_text(string: str):\n",
    "    for part in ('pd.merge', \")\", '(', \"'\"):\n",
    "        string = string.replace(part, '')\n",
    "    return string\n",
    "for part in re.split('[,=]', stmt): \n",
    "    part = clean_text(part.strip())\n",
    "    if filtre_keywords(part): \n",
    "        print(part)"
   ]
  },
  {
   "cell_type": "code",
   "execution_count": null,
   "metadata": {},
   "outputs": [],
   "source": []
  }
 ],
 "metadata": {
  "kernelspec": {
   "display_name": "Python 3",
   "language": "python",
   "name": "python3"
  },
  "language_info": {
   "codemirror_mode": {
    "name": "ipython",
    "version": 3
   },
   "file_extension": ".py",
   "mimetype": "text/x-python",
   "name": "python",
   "nbconvert_exporter": "python",
   "pygments_lexer": "ipython3",
   "version": "3.7.7"
  }
 },
 "nbformat": 4,
 "nbformat_minor": 4
}
